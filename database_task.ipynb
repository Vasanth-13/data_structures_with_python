{
 "cells": [
  {
   "cell_type": "code",
   "execution_count": 2,
   "metadata": {},
   "outputs": [],
   "source": [
    "from bs4 import BeautifulSoup\n",
    "import requests"
   ]
  },
  {
   "cell_type": "code",
   "execution_count": 3,
   "metadata": {},
   "outputs": [
    {
     "name": "stdout",
     "output_type": "stream",
     "text": [
      "<title>World War II - Wikipedia</title>\n"
     ]
    }
   ],
   "source": [
    "#Scrap data from wikipedia\n",
    "wiki=requests.get(\"https://en.wikipedia.org/wiki/World_War_II\")\n",
    "soup=BeautifulSoup(wiki.text,'html')\n",
    "print(soup.find('title'))"
   ]
  },
  {
   "cell_type": "code",
   "execution_count": 4,
   "metadata": {},
   "outputs": [
    {
     "name": "stdout",
     "output_type": "stream",
     "text": [
      "Contents\n",
      "\n",
      "1 Chronology\n",
      "2 Background\n",
      "\n",
      "2.1 Europe\n",
      "2.2 Asia\n",
      "\n",
      "\n",
      "3 Pre-war events\n",
      "\n",
      "3.1 Italian invasion of Ethiopia (1935)\n",
      "3.2 Spanish Civil War (1936–1939)\n",
      "3.3 Japanese invasion of China (1937)\n",
      "3.4 Soviet–Japanese border conflicts\n",
      "3.5 European occupations and agreements\n",
      "\n",
      "\n",
      "4 Course of the war\n",
      "\n",
      "4.1 War breaks out in Europe (1939–40)\n",
      "4.2 Western Europe (1940–41)\n",
      "4.3 Mediterranean (1940–41)\n",
      "4.4 Axis attack on the Soviet Union (1941)\n",
      "4.5 War breaks out in the Pacific (1941)\n",
      "4.6 Axis advance stalls (1942–43)\n",
      "\n",
      "4.6.1 Pacific (1942–43)\n",
      "4.6.2 Eastern Front (1942–43)\n",
      "4.6.3 Western Europe/Atlantic and Mediterranean (1942–43)\n",
      "\n",
      "\n",
      "4.7 Allies gain momentum (1943–44)\n",
      "4.8 Allies close in (1944)\n",
      "4.9 Axis collapse, Allied victory (1944–45)\n",
      "\n",
      "\n",
      "5 Aftermath\n",
      "6 Impact\n",
      "\n",
      "6.1 Casualties and war crimes\n",
      "6.2 Genocide, concentration camps, and slave labour\n",
      "6.3 Occupation\n",
      "6.4 Home fronts and production\n",
      "6.5 Advances in technology and warfare\n",
      "\n",
      "\n",
      "7 See also\n",
      "8 Notes\n",
      "9 Citations\n",
      "10 References\n",
      "11 External links\n",
      "\n",
      "\n"
     ]
    }
   ],
   "source": [
    "#Finding HTML tags with classes\n",
    "ww2_contents=soup.find_all(\"div\",class_='toc')\n",
    "for i in ww2_contents:\n",
    "    print(i.text)"
   ]
  },
  {
   "cell_type": "code",
   "execution_count": 5,
   "metadata": {},
   "outputs": [
    {
     "name": "stdout",
     "output_type": "stream",
     "text": [
      "World War IIClockwise from top left: \n",
      "Chinese forces in the Battle of Wanjialing\n",
      "Australian 25-pounder guns during the First Battle of El Alamein\n",
      "German Stuka dive bombers on the Eastern Front in December 1943\n",
      "US naval force in the Lingayen Gulf\n",
      "Wilhelm Keitel signing the German Instrument of Surrender\n",
      "Soviet troops in the Battle of Stalingrad\n",
      "Date1 September 1939 – 2 September 1945 (1939-09-01 – 1945-09-02)[a](6 years and 1 day)LocationEurope, Pacific, Atlantic, Indian Ocean, South-East Asia, China, Middle East, Mediterranean, North Africa, Horn of Africa, Australia, briefly North and South AmericaResult\n",
      "Allied victory\n",
      "Fall of Nazi Germany and the Empires of Japan and Italy\n",
      "Allied military occupations of Germany, Japan, Austria and foundation of the Italian Republic\n",
      "Beginning of the Nuclear Age\n",
      "Dissolution of the League of Nations and creation of the United Nations\n",
      "Emergence of the United States and the Soviet Union as rival superpowers and beginning of the Cold War (more ...)Participants\n",
      "Allies\n",
      "AxisCommanders and leaders\n",
      "Main Allied leaders:\n",
      " Joseph Stalin\n",
      " Franklin D. Roosevelt\n",
      " Winston Churchill\n",
      " Chiang Kai-shek\n",
      "\n",
      "Main Axis leaders:\n",
      " Adolf Hitler\n",
      " Hirohito\n",
      " Benito Mussolini\n",
      "Casualties and losses\n",
      "\n",
      "Military dead:\n",
      "Over 16,000,000\n",
      "Civilian dead:\n",
      "Over 45,000,000\n",
      "Total dead:\n",
      "Over 61,000,000\n",
      "(1937–1945)\n",
      "...further details\n",
      "\n",
      "\n",
      "Military dead:\n",
      "Over 8,000,000\n",
      "Civilian dead:\n",
      "Over 4,000,000\n",
      "Total dead:\n",
      "Over 12,000,000\n",
      "(1937–1945)\n",
      "...further details\n",
      "\n"
     ]
    }
   ],
   "source": [
    "overview=soup.find_all('table',class_='infobox vevent')\n",
    "for z in overview:\n",
    "    print(z.text)"
   ]
  },
  {
   "cell_type": "code",
   "execution_count": null,
   "metadata": {},
   "outputs": [],
   "source": []
  }
 ],
 "metadata": {
  "kernelspec": {
   "display_name": "Python 3",
   "language": "python",
   "name": "python3"
  },
  "language_info": {
   "codemirror_mode": {
    "name": "ipython",
    "version": 3
   },
   "file_extension": ".py",
   "mimetype": "text/x-python",
   "name": "python",
   "nbconvert_exporter": "python",
   "pygments_lexer": "ipython3",
   "version": "3.7.1"
  }
 },
 "nbformat": 4,
 "nbformat_minor": 4
}
