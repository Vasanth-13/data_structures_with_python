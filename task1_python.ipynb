{
 "cells": [
  {
   "cell_type": "code",
   "execution_count": 1,
   "metadata": {},
   "outputs": [
    {
     "name": "stdout",
     "output_type": "stream",
     "text": [
      "Input the radius of the circle: 1.1\n",
      "The area of the circle with radius 1.1 is 3.8013271108436504\n"
     ]
    }
   ],
   "source": [
    "#Python program which accepts the radius of a circle from the user and computes area\n",
    "import math\n",
    "radius=float(input(\"Input the radius of the circle: \"))\n",
    "area=math.pi*(radius**2)\n",
    "print(\"The area of the circle with radius {} is {}\".format(radius,area))"
   ]
  },
  {
   "cell_type": "code",
   "execution_count": 2,
   "metadata": {},
   "outputs": [
    {
     "name": "stdout",
     "output_type": "stream",
     "text": [
      "Input the filename: abc.py\n",
      "The extension of the file is py\n"
     ]
    }
   ],
   "source": [
    "#Write a python program to accept a filename from the user and print the extension of that\n",
    "filename=input(\"Input the filename: \")\n",
    "file=filename.split(\".\")\n",
    "print(\"The extension of the file is {}\".format(file[-1]))\n"
   ]
  },
  {
   "cell_type": "code",
   "execution_count": null,
   "metadata": {},
   "outputs": [],
   "source": []
  }
 ],
 "metadata": {
  "kernelspec": {
   "display_name": "Python 3",
   "language": "python",
   "name": "python3"
  },
  "language_info": {
   "codemirror_mode": {
    "name": "ipython",
    "version": 3
   },
   "file_extension": ".py",
   "mimetype": "text/x-python",
   "name": "python",
   "nbconvert_exporter": "python",
   "pygments_lexer": "ipython3",
   "version": "3.7.1"
  }
 },
 "nbformat": 4,
 "nbformat_minor": 4
}
